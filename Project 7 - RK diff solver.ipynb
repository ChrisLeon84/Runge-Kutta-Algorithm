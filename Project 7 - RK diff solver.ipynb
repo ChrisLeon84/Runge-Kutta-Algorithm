{
 "cells": [
  {
   "cell_type": "code",
   "execution_count": 1,
   "metadata": {
    "collapsed": true
   },
   "outputs": [],
   "source": [
    "import numpy as np\n",
    "\n",
    "# Multi-dimensional version\n",
    "\n",
    "def rk_diff_solver_vect (f, x0, y0, h, n):\n",
    "    # Intiatite arrays    \n",
    "    rk_x = [x0 + i*h for i in range(n)]\n",
    "    rk_y = [y0 if i == 0 else [0]*len(y0) for i in range(n)]\n",
    "    \n",
    "    rk_y = np.asarray(rk_y)    \n",
    "    \n",
    "    #Calculate solution using RK algorithm\n",
    "    for i in range(n-1):\n",
    "        k1 = h*f(rk_x[i], rk_y[i])\n",
    "        k2 = h*f(rk_x[i] + h/2.0, rk_y[i] + 0.5*k1)\n",
    "        k3 = h*f(rk_x[i] + h/2.0, rk_y[i] + 0.5*k2)\n",
    "        k4 = h*f(rk_x[i] + h, rk_y[i] + k3)    \n",
    "        \n",
    "        rk_y[i+1] = rk_y[i] + (k1 + 2 * k2 + 2 * k3 + k4) / 6\n",
    "\n",
    "    # Return solution\n",
    "    return rk_x, rk_y  "
   ]
  },
  {
   "cell_type": "code",
   "execution_count": 2,
   "metadata": {
    "collapsed": false
   },
   "outputs": [
    {
     "name": "stdout",
     "output_type": "stream",
     "text": [
      "[-0.01020552 -0.01021147]\n",
      "0.000208426709085\n",
      "0.000208426709085\n"
     ]
    }
   ],
   "source": [
    "# Intial conditions in solar plane coordinates\n",
    "r0 = [0.3170787, -1.887907, 0.2396305]\n",
    "v0 = [0.008180196, 0.01188029, 0.0006081217]\n",
    "\n",
    "\n",
    "# New Coordinates\n",
    "\n",
    "# New x unit vector is in r0 direction.\n",
    "u_x = r0/np.dot(r0,r0)**0.5\n",
    "\n",
    "# New z unit vector is vector perpendicular to r0 and v0\n",
    "u_z = np.cross(r0,v0)\n",
    "u_z /= np.dot(u_z,u_z)**0.5\n",
    "\n",
    "# New y vector is perpendicuar to new x,z (automatically a unit vector).\n",
    "u_y = np.cross(u_x,u_z)\n",
    "\n",
    "# Get coefficients of v0 in new coordinate system \n",
    "v0_new_x =  np.dot(v0,u_x)\n",
    "v0_new_y = np.dot(v0, u_y)\n",
    "\n",
    "v0_new = np.asarray([v0_new_x, v0_new_y])\n",
    "print(v0_new)\n",
    "print(np.dot(v0_new,v0_new))\n",
    "print(np.dot(v0,v0))"
   ]
  },
  {
   "cell_type": "code",
   "execution_count": 4,
   "metadata": {
    "collapsed": false,
    "scrolled": true
   },
   "outputs": [
    {
     "name": "stdout",
     "output_type": "stream",
     "text": [
      "1.92928860443 0.0197008692866\n"
     ]
    },
    {
     "data": {
      "image/png": "[encoded data removed]",
      "text/plain": [
       "<matplotlib.figure.Figure at 0x3d20130>"
      ]
     },
     "metadata": {},
     "output_type": "display_data"
    }
   ],
   "source": [
    "%matplotlib inline\n",
    "import matplotlib.pyplot as plt\n",
    "\n",
    "# Let m =1. Get initial r and l:\n",
    "m = 1.\n",
    "r = np.linalg.norm(r0)\n",
    "l = np.linalg.norm( np.cross(r0, v0))\n",
    "pr_0 = np.dot(v0,u_x)\n",
    "\n",
    "# k = GM in units of AU^3/day^2\n",
    "k = 2.9591392*10**(-4)\n",
    "\n",
    "# Differential equation function\n",
    "K = lambda t, u: np.asarray(\n",
    "    [u[2]/m, l/(m*u[0]**2), -k/u[0]**2 + (l**2)/(m*u[0]**3)]\n",
    "    )\n",
    "\n",
    "\n",
    "max_t = 5000\n",
    "n = 100\n",
    "000\n",
    "h = max_t/n\n",
    "\n",
    "# u[:,0] = r\n",
    "# u[:,1] = th\n",
    "# u[:,2] = p_r\n",
    "\n",
    "t, u = rk_diff_solver_vect(K, 0, np.asarray([r, 0., pr_0]), h,  n)\n",
    "plt.plot(t, u[:,0])\n",
    "print(r, l)"
   ]
  },
  {
   "cell_type": "code",
   "execution_count": 9,
   "metadata": {
    "collapsed": false
   },
   "outputs": [
    {
     "data": {
      "text/plain": [
       "<matplotlib.text.Text at 0x7a8d870>"
      ]
     },
     "execution_count": 9,
     "metadata": {},
     "output_type": "execute_result"
    },
    {
     "data": {
      "image/png": "[encoded data removed]",
      "text/plain": [
       "<matplotlib.figure.Figure at 0x8c3d990>"
      ]
     },
     "metadata": {},
     "output_type": "display_data"
    }
   ],
   "source": [
    "plt.plot(t, u[:,0])\n",
    "plt.xlabel(\"t\")\n",
    "plt.ylabel(\"r\", fontsize= 15)\n",
    "plt.title(\"Radius\")\n"
   ]
  },
  {
   "cell_type": "code",
   "execution_count": 5,
   "metadata": {
    "collapsed": false
   },
   "outputs": [
    {
     "data": {
      "text/plain": [
       "[<matplotlib.lines.Line2D at 0x78be950>]"
      ]
     },
     "execution_count": 5,
     "metadata": {},
     "output_type": "execute_result"
    },
    {
     "data": {
      "image/png": "[encoded data removed]",
      "text/plain": [
       "<matplotlib.figure.Figure at 0x3f822b0>"
      ]
     },
     "metadata": {},
     "output_type": "display_data"
    }
   ],
   "source": [
    "plt.plot(u[:,0]*np.cos(u[:,1]), u[:,0]*np.sin(u[:,1]))"
   ]
  },
  {
   "cell_type": "code",
   "execution_count": 16,
   "metadata": {
    "collapsed": false
   },
   "outputs": [],
   "source": [
    "from scipy.signal import argrelextrema\n",
    "\n",
    "mins = argrelextrema(u[:,0], np.less)"
   ]
  },
  {
   "cell_type": "code",
   "execution_count": 16,
   "metadata": {
    "collapsed": false
   },
   "outputs": [
    {
     "data": {
      "text/plain": [
       "(0, 2.5)"
      ]
     },
     "execution_count": 16,
     "metadata": {},
     "output_type": "execute_result"
    },
    {
     "data": {
      "image/png": "[encoded data removed]",
      "text/plain": [
       "<matplotlib.figure.Figure at 0x4cadc70>"
      ]
     },
     "metadata": {},
     "output_type": "display_data"
    }
   ],
   "source": [
    "\n",
    "# Choose units such that:\n",
    "m = 1.\n",
    "l = 1.\n",
    "k = 1. \n",
    "\n",
    "max_t = 20\n",
    "n = 10000\n",
    "h = max_t/n\n",
    "\n",
    "t, u = rk_diff_solver_vect(K, 0., np.asarray([2, 0., 0.3]), h, n)\n",
    "\n",
    "plt.plot(t, u[:,0])\n",
    "plt.ylim(0, 2.5)"
   ]
  },
  {
   "cell_type": "code",
   "execution_count": 126,
   "metadata": {
    "collapsed": false
   },
   "outputs": [
    {
     "data": {
      "text/plain": [
       "2.471264642395789e-05"
      ]
     },
     "execution_count": 126,
     "metadata": {},
     "output_type": "execute_result"
    }
   ],
   "source": [
    "0.5*(v0_new_x**2 + v0_new_y**2) - k/r**2"
   ]
  },
  {
   "cell_type": "code",
   "execution_count": 92,
   "metadata": {
    "collapsed": false
   },
   "outputs": [
    {
     "data": {
      "text/plain": [
       "1.9292886044272746"
      ]
     },
     "execution_count": 92,
     "metadata": {},
     "output_type": "execute_result"
    }
   ],
   "source": [
    "np.dot(r0,r0)**0.5"
   ]
  },
  {
   "cell_type": "code",
   "execution_count": 108,
   "metadata": {
    "collapsed": false
   },
   "outputs": [
    {
     "data": {
      "text/plain": [
       "1535482468000000.2"
      ]
     },
     "execution_count": 108,
     "metadata": {},
     "output_type": "execute_result"
    }
   ],
   "source": [
    "((1.327124*10**(20))*(1.157*10**-5))"
   ]
  },
  {
   "cell_type": "code",
   "execution_count": 106,
   "metadata": {
    "collapsed": false
   },
   "outputs": [
    {
     "data": {
      "text/plain": [
       "4.586391627019713e-19"
      ]
     },
     "execution_count": 106,
     "metadata": {},
     "output_type": "execute_result"
    }
   ],
   "source": [
    "(6.6846*10**(-12))**3*1535482468000000.2"
   ]
  },
  {
   "cell_type": "code",
   "execution_count": 20,
   "metadata": {
    "collapsed": false
   },
   "outputs": [
    {
     "data": {
      "text/plain": [
       "array([ 0.00399496,  0.0017674 ,  0.01921044])"
      ]
     },
     "execution_count": 20,
     "metadata": {},
     "output_type": "execute_result"
    }
   ],
   "source": [
    "np.absolute(np.cross(r0, v0))"
   ]
  },
  {
   "cell_type": "code",
   "execution_count": null,
   "metadata": {
    "collapsed": true
   },
   "outputs": [],
   "source": [
    "%matplotlib inline\n",
    "import matplotlib.pyplot as plt\n",
    "\n",
    "# Let m =1. Get initial r and l:\n",
    "m = 1.\n",
    "r = 1.9292886044272746\n",
    "l = np.absolute( np.cross(r0, v0))\n",
    "pr_0 = np.dot(r0,u_x)\n",
    "\n",
    "# k = GM in units of AU^3/day^2\n",
    "k = 2.9591392*10**(-4)\n",
    "\n",
    "# Differential equation function\n",
    "K = lambda t, u: np.asarray(\n",
    "    [u[2]/m, l/(m*u[0]**2), -k/u[0]**2 + (l**2)/(m*u[0]**3)]\n",
    "    )\n",
    "\n",
    "\n",
    "max_t = 2000\n",
    "n = 10000\n",
    "h = max_t/n\n",
    "\n",
    "# u[:,0] = r\n",
    "# u[:,1] = th\n",
    "# u[:,2] = p_r\n",
    "\n",
    "t, u = rk_diff_solver_vect(K, 0, np.asarray([r, 0., pr_0]), h,  n)\n"
   ]
  }
 ],
 "metadata": {
  "kernelspec": {
   "display_name": "Python 3",
   "language": "python",
   "name": "python3"
  },
  "language_info": {
   "codemirror_mode": {
    "name": "ipython",
    "version": 3
   },
   "file_extension": ".py",
   "mimetype": "text/x-python",
   "name": "python",
   "nbconvert_exporter": "python",
   "pygments_lexer": "ipython3",
   "version": "3.5.1"
  }
 },
 "nbformat": 4,
 "nbformat_minor": 0
}
